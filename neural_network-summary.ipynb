{
 "cells": [
  {
   "cell_type": "code",
   "execution_count": 1,
   "metadata": {},
   "outputs": [],
   "source": [
    "from __future__ import absolute_import, division, print_function\n",
    "\n",
    "import tensorflow as tf\n",
    "from tensorflow.keras import Model, layers\n",
    "import numpy as np"
   ]
  },
  {
   "cell_type": "code",
   "execution_count": 2,
   "metadata": {},
   "outputs": [],
   "source": [
    "# MNIST dataset parameters.\n",
    "num_classes = 10 # total classes (0-9 digits).\n",
    "num_features = 784 # data features (img shape: 28*28).\n",
    "\n",
    "# Training parameters.\n",
    "learning_rate = 0.1\n",
    "training_steps = 2000\n",
    "batch_size = 256\n",
    "display_step = 100\n",
    "\n",
    "# Network parameters.\n",
    "n_hidden_1 = 128 # 1st layer number of neurons.\n",
    "n_hidden_2 = 256 # 2nd layer number of neurons."
   ]
  },
  {
   "cell_type": "code",
   "execution_count": 3,
   "metadata": {},
   "outputs": [],
   "source": [
    "# Prepare MNIST data.\n",
    "from tensorflow.keras.datasets import mnist\n",
    "(x_train, y_train), (x_test, y_test) = mnist.load_data()\n",
    "# Convert to float32.\n",
    "x_train, x_test = np.array(x_train, np.float32), np.array(x_test, np.float32)\n",
    "# Flatten images to 1-D vector of 784 features (28*28).\n",
    "x_train, x_test = x_train.reshape([-1, num_features]), x_test.reshape([-1, num_features])\n",
    "# Normalize images value from [0, 255] to [0, 1].\n",
    "x_train, x_test = x_train / 255., x_test / 255."
   ]
  },
  {
   "cell_type": "code",
   "execution_count": 4,
   "metadata": {},
   "outputs": [],
   "source": [
    "# Use tf.data API to shuffle and batch data.\n",
    "train_data = tf.data.Dataset.from_tensor_slices((x_train, y_train))\n",
    "train_data = train_data.repeat().shuffle(5000).batch(batch_size).prefetch(1)"
   ]
  },
  {
   "cell_type": "code",
   "execution_count": 5,
   "metadata": {},
   "outputs": [],
   "source": [
    "# Create TF Model.\n",
    "class NeuralNet(Model):\n",
    "    # Set layers.\n",
    "    def __init__(self):\n",
    "        super(NeuralNet, self).__init__()\n",
    "        # First fully-connected hidden layer.\n",
    "        self.fc1 = layers.Dense(n_hidden_1, activation=tf.nn.relu)\n",
    "        # First fully-connected hidden layer.\n",
    "        self.fc2 = layers.Dense(n_hidden_2, activation=tf.nn.relu)\n",
    "        # Second fully-connecter hidden layer.\n",
    "        self.out = layers.Dense(num_classes)\n",
    "\n",
    "    # Set forward pass.\n",
    "    def call(self, x, is_training=False):\n",
    "        x = self.fc1(x)\n",
    "        x = self.fc2(x)\n",
    "        x = self.out(x)\n",
    "        if not is_training:\n",
    "            # tf cross entropy expect logits without softmax, so only\n",
    "            # apply softmax when not training.\n",
    "            x = tf.nn.softmax(x)\n",
    "        return x\n",
    "\n",
    "# Build neural network model.\n",
    "neural_net = NeuralNet()"
   ]
  },
  {
   "cell_type": "code",
   "execution_count": 6,
   "metadata": {},
   "outputs": [],
   "source": [
    "# Cross-Entropy Loss.\n",
    "# Note that this will apply 'softmax' to the logits.\n",
    "def cross_entropy_loss(x, y):\n",
    "    # Convert labels to int 64 for tf cross-entropy function.\n",
    "    y = tf.cast(y, tf.int64)\n",
    "    # Apply softmax to logits and compute cross-entropy.\n",
    "    loss = tf.nn.sparse_softmax_cross_entropy_with_logits(labels=y, logits=x)\n",
    "    # Average loss across the batch.\n",
    "    return tf.reduce_mean(loss)\n",
    "\n",
    "# Accuracy metric.\n",
    "def accuracy(y_pred, y_true):\n",
    "    # Predicted class is the index of highest score in prediction vector (i.e. argmax).\n",
    "    correct_prediction = tf.equal(tf.argmax(y_pred, 1), tf.cast(y_true, tf.int64))\n",
    "    return tf.reduce_mean(tf.cast(correct_prediction, tf.float32), axis=-1)\n",
    "\n",
    "# Stochastic gradient descent optimizer.\n",
    "optimizer = tf.optimizers.SGD(learning_rate)"
   ]
  },
  {
   "cell_type": "code",
   "execution_count": 7,
   "metadata": {},
   "outputs": [],
   "source": [
    "# Optimization process. \n",
    "def run_optimization(x, y):\n",
    "    # Wrap computation inside a GradientTape for automatic differentiation.\n",
    "    with tf.GradientTape() as g:\n",
    "        # Forward pass.\n",
    "        pred = neural_net(x, is_training=True)\n",
    "        # Compute loss.\n",
    "        loss = cross_entropy_loss(pred, y)\n",
    "        \n",
    "    # Variables to update, i.e. trainable variables.\n",
    "    trainable_variables = neural_net.trainable_variables\n",
    "\n",
    "    # Compute gradients.\n",
    "    gradients = g.gradient(loss, trainable_variables)\n",
    "    \n",
    "    # Update W and b following gradients.\n",
    "    optimizer.apply_gradients(zip(gradients, trainable_variables))"
   ]
  },
  {
   "cell_type": "code",
   "execution_count": 8,
   "metadata": {},
   "outputs": [
    {
     "name": "stdout",
     "output_type": "stream",
     "text": [
      "step: 100, loss: 0.412719, accuracy: 0.910156\n",
      "step: 200, loss: 0.282855, accuracy: 0.937500\n",
      "step: 300, loss: 0.242852, accuracy: 0.925781\n",
      "step: 400, loss: 0.288900, accuracy: 0.925781\n",
      "step: 500, loss: 0.199585, accuracy: 0.949219\n",
      "step: 600, loss: 0.219708, accuracy: 0.933594\n",
      "step: 700, loss: 0.135859, accuracy: 0.960938\n",
      "step: 800, loss: 0.147999, accuracy: 0.960938\n",
      "step: 900, loss: 0.116704, accuracy: 0.968750\n",
      "step: 1000, loss: 0.178838, accuracy: 0.960938\n",
      "step: 1100, loss: 0.133223, accuracy: 0.953125\n",
      "step: 1200, loss: 0.139447, accuracy: 0.964844\n",
      "step: 1300, loss: 0.168910, accuracy: 0.957031\n",
      "step: 1400, loss: 0.105965, accuracy: 0.976562\n",
      "step: 1500, loss: 0.134825, accuracy: 0.968750\n",
      "step: 1600, loss: 0.109842, accuracy: 0.972656\n",
      "step: 1700, loss: 0.109746, accuracy: 0.960938\n",
      "step: 1800, loss: 0.094182, accuracy: 0.980469\n",
      "step: 1900, loss: 0.081600, accuracy: 0.980469\n",
      "step: 2000, loss: 0.058749, accuracy: 0.992188\n"
     ]
    }
   ],
   "source": [
    "# Run training for the given number of steps.\n",
    "for step, (batch_x, batch_y) in enumerate(train_data.take(training_steps), 1):\n",
    "    # Run the optimization to update W and b values.\n",
    "    run_optimization(batch_x, batch_y)\n",
    "    \n",
    "    if step % display_step == 0:\n",
    "        pred = neural_net(batch_x, is_training=True)\n",
    "        loss = cross_entropy_loss(pred, batch_y)\n",
    "        acc = accuracy(pred, batch_y)\n",
    "        print(\"step: %i, loss: %f, accuracy: %f\" % (step, loss, acc))"
   ]
  },
  {
   "cell_type": "code",
   "execution_count": 14,
   "metadata": {},
   "outputs": [],
   "source": [
    "neural_net.compile(optimizer='SGD',\n",
    "                  loss='sparse_categorical_crossentropy',\n",
    "                  metrics=['accuracy']\n",
    ")"
   ]
  },
  {
   "cell_type": "code",
   "execution_count": 15,
   "metadata": {},
   "outputs": [
    {
     "name": "stdout",
     "output_type": "stream",
     "text": [
      "Epoch 1/30\n",
      "188/188 [==============================] - 1s 5ms/step - loss: 0.1031 - accuracy: 0.9707 - val_loss: 0.0970 - val_accuracy: 0.9728\n",
      "Epoch 2/30\n",
      "188/188 [==============================] - 1s 4ms/step - loss: 0.1017 - accuracy: 0.9714 - val_loss: 0.0968 - val_accuracy: 0.9737\n",
      "Epoch 3/30\n",
      "188/188 [==============================] - 1s 4ms/step - loss: 0.1007 - accuracy: 0.9715 - val_loss: 0.0966 - val_accuracy: 0.9732\n",
      "Epoch 4/30\n",
      "188/188 [==============================] - 1s 4ms/step - loss: 0.0998 - accuracy: 0.9720 - val_loss: 0.0966 - val_accuracy: 0.9732\n",
      "Epoch 5/30\n",
      "188/188 [==============================] - 1s 5ms/step - loss: 0.0988 - accuracy: 0.9721 - val_loss: 0.0966 - val_accuracy: 0.9727\n",
      "Epoch 6/30\n",
      "188/188 [==============================] - 1s 5ms/step - loss: 0.0981 - accuracy: 0.9724 - val_loss: 0.0958 - val_accuracy: 0.9738\n",
      "Epoch 7/30\n",
      "188/188 [==============================] - 1s 4ms/step - loss: 0.0971 - accuracy: 0.9730 - val_loss: 0.0959 - val_accuracy: 0.9732\n",
      "Epoch 8/30\n",
      "188/188 [==============================] - 1s 4ms/step - loss: 0.0963 - accuracy: 0.9729 - val_loss: 0.0960 - val_accuracy: 0.9732\n",
      "Epoch 9/30\n",
      "188/188 [==============================] - 1s 4ms/step - loss: 0.0956 - accuracy: 0.9733 - val_loss: 0.0957 - val_accuracy: 0.9730\n",
      "Epoch 10/30\n",
      "188/188 [==============================] - 1s 4ms/step - loss: 0.0949 - accuracy: 0.9735 - val_loss: 0.0951 - val_accuracy: 0.9735\n",
      "Epoch 11/30\n",
      "188/188 [==============================] - 1s 4ms/step - loss: 0.0940 - accuracy: 0.9737 - val_loss: 0.0951 - val_accuracy: 0.9731\n",
      "Epoch 12/30\n",
      "188/188 [==============================] - 1s 5ms/step - loss: 0.0932 - accuracy: 0.9740 - val_loss: 0.0949 - val_accuracy: 0.9737\n",
      "Epoch 13/30\n",
      "188/188 [==============================] - 1s 5ms/step - loss: 0.0926 - accuracy: 0.9742 - val_loss: 0.0945 - val_accuracy: 0.9740\n",
      "Epoch 14/30\n",
      "188/188 [==============================] - 1s 5ms/step - loss: 0.0918 - accuracy: 0.9741 - val_loss: 0.0942 - val_accuracy: 0.9737\n",
      "Epoch 15/30\n",
      "188/188 [==============================] - 1s 4ms/step - loss: 0.0910 - accuracy: 0.9748 - val_loss: 0.0942 - val_accuracy: 0.9739\n",
      "Epoch 16/30\n",
      "188/188 [==============================] - 1s 4ms/step - loss: 0.0904 - accuracy: 0.9747 - val_loss: 0.0941 - val_accuracy: 0.9734\n",
      "Epoch 17/30\n",
      "188/188 [==============================] - 1s 5ms/step - loss: 0.0896 - accuracy: 0.9753 - val_loss: 0.0939 - val_accuracy: 0.9732\n",
      "Epoch 18/30\n",
      "188/188 [==============================] - 1s 5ms/step - loss: 0.0890 - accuracy: 0.9754 - val_loss: 0.0935 - val_accuracy: 0.9739\n",
      "Epoch 19/30\n",
      "188/188 [==============================] - 1s 5ms/step - loss: 0.0882 - accuracy: 0.9754 - val_loss: 0.0936 - val_accuracy: 0.9737\n",
      "Epoch 20/30\n",
      "188/188 [==============================] - 1s 5ms/step - loss: 0.0876 - accuracy: 0.9756 - val_loss: 0.0930 - val_accuracy: 0.9743\n",
      "Epoch 21/30\n",
      "188/188 [==============================] - 1s 4ms/step - loss: 0.0868 - accuracy: 0.9761 - val_loss: 0.0936 - val_accuracy: 0.9735\n",
      "Epoch 22/30\n",
      "188/188 [==============================] - 1s 5ms/step - loss: 0.0863 - accuracy: 0.9761 - val_loss: 0.0930 - val_accuracy: 0.9738\n",
      "Epoch 23/30\n",
      "188/188 [==============================] - 1s 5ms/step - loss: 0.0855 - accuracy: 0.9766 - val_loss: 0.0923 - val_accuracy: 0.9745\n",
      "Epoch 24/30\n",
      "188/188 [==============================] - 1s 4ms/step - loss: 0.0850 - accuracy: 0.9765 - val_loss: 0.0918 - val_accuracy: 0.9743\n",
      "Epoch 25/30\n",
      "188/188 [==============================] - 1s 5ms/step - loss: 0.0843 - accuracy: 0.9768 - val_loss: 0.0919 - val_accuracy: 0.9737\n",
      "Epoch 26/30\n",
      "188/188 [==============================] - 1s 5ms/step - loss: 0.0837 - accuracy: 0.9769 - val_loss: 0.0920 - val_accuracy: 0.9739\n",
      "Epoch 27/30\n",
      "188/188 [==============================] - 1s 4ms/step - loss: 0.0831 - accuracy: 0.9772 - val_loss: 0.0912 - val_accuracy: 0.9746\n",
      "Epoch 28/30\n",
      "188/188 [==============================] - 1s 5ms/step - loss: 0.0825 - accuracy: 0.9773 - val_loss: 0.0919 - val_accuracy: 0.9741\n",
      "Epoch 29/30\n",
      "188/188 [==============================] - 1s 5ms/step - loss: 0.0819 - accuracy: 0.9776 - val_loss: 0.0909 - val_accuracy: 0.9746\n",
      "Epoch 30/30\n",
      "188/188 [==============================] - 1s 5ms/step - loss: 0.0813 - accuracy: 0.9776 - val_loss: 0.0908 - val_accuracy: 0.9747\n"
     ]
    }
   ],
   "source": [
    "history = neural_net.fit(x_train, y_train,\n",
    "                        batch_size=batch_size,\n",
    "                        epochs=30,\n",
    "                        validation_split=0.2\n",
    ")"
   ]
  },
  {
   "cell_type": "code",
   "execution_count": 16,
   "metadata": {},
   "outputs": [],
   "source": [
    "def plot_metric(history, metric):\n",
    "    train_metrics = history.history[metric]\n",
    "    val_metrics = history.history['val_'+metric]\n",
    "    epochs = range(1, len(train_metrics) + 1)\n",
    "    plt.plot(epochs, train_metrics, 'bo--')\n",
    "    plt.plot(epochs, val_metrics, 'ro-')\n",
    "    plt.title('Training and validation '+ metric)\n",
    "    plt.xlabel(\"Epochs\")\n",
    "    plt.ylabel(metric)\n",
    "    plt.legend([\"train_\"+metric, 'val_'+metric])\n",
    "    plt.show()"
   ]
  },
  {
   "cell_type": "code",
   "execution_count": 18,
   "metadata": {},
   "outputs": [
    {
     "data": {
      "image/png": "[encoded data removed]",
      "text/plain": [
       "<Figure size 432x288 with 1 Axes>"
      ]
     },
     "metadata": {
      "needs_background": "light"
     },
     "output_type": "display_data"
    },
    {
     "data": {
      "image/png": "[encoded data removed]",
      "text/plain": [
       "<Figure size 432x288 with 1 Axes>"
      ]
     },
     "metadata": {
      "needs_background": "light"
     },
     "output_type": "display_data"
    }
   ],
   "source": [
    "plot_metric(history, 'loss')\n",
    "plot_metric(history, 'accuracy')"
   ]
  },
  {
   "cell_type": "code",
   "execution_count": 19,
   "metadata": {},
   "outputs": [
    {
     "name": "stdout",
     "output_type": "stream",
     "text": [
      "313/313 [==============================] - 1s 3ms/step - loss: 0.1001 - accuracy: 0.9716\n"
     ]
    },
    {
     "data": {
      "text/plain": [
       "[0.10005529969930649, 0.9715999960899353]"
      ]
     },
     "execution_count": 19,
     "metadata": {},
     "output_type": "execute_result"
    }
   ],
   "source": [
    "neural_net.evaluate(x = x_test, y = y_test)"
   ]
  },
  {
   "cell_type": "code",
   "execution_count": 20,
   "metadata": {},
   "outputs": [
    {
     "name": "stdout",
     "output_type": "stream",
     "text": [
      "Model: \"neural_net\"\n",
      "_________________________________________________________________\n",
      "Layer (type)                 Output Shape              Param #   \n",
      "=================================================================\n",
      "dense (Dense)                multiple                  100480    \n",
      "_________________________________________________________________\n",
      "dense_1 (Dense)              multiple                  33024     \n",
      "_________________________________________________________________\n",
      "dense_2 (Dense)              multiple                  2570      \n",
      "=================================================================\n",
      "Total params: 136,074\n",
      "Trainable params: 136,074\n",
      "Non-trainable params: 0\n",
      "_________________________________________________________________\n"
     ]
    }
   ],
   "source": [
    "neural_net.summary()"
   ]
  },
  {
   "cell_type": "code",
   "execution_count": 10,
   "metadata": {},
   "outputs": [
    {
     "name": "stdout",
     "output_type": "stream",
     "text": [
      "Test Accuracy: 0.965800\n"
     ]
    }
   ],
   "source": [
    "# Test model on validation set.\n",
    "pred = neural_net(x_test, is_training=False) \n",
    "print(\"Test Accuracy: %f\" % accuracy(pred, y_test))"
   ]
  },
  {
   "cell_type": "code",
   "execution_count": 11,
   "metadata": {},
   "outputs": [],
   "source": [
    "# Visualize predictions.\n",
    "import matplotlib.pyplot as plt"
   ]
  },
  {
   "cell_type": "code",
   "execution_count": 12,
   "metadata": {},
   "outputs": [
    {
     "data": {
      "image/png": "[encoded data removed]",
      "text/plain": [
       "<Figure size 432x288 with 1 Axes>"
      ]
     },
     "metadata": {
      "needs_background": "light"
     },
     "output_type": "display_data"
    },
    {
     "name": "stdout",
     "output_type": "stream",
     "text": [
      "Model prediction: 7\n"
     ]
    },
    {
     "data": {
      "image/png": "[encoded data removed]",
      "text/plain": [
       "<Figure size 432x288 with 1 Axes>"
      ]
     },
     "metadata": {
      "needs_background": "light"
     },
     "output_type": "display_data"
    },
    {
     "name": "stdout",
     "output_type": "stream",
     "text": [
      "Model prediction: 2\n"
     ]
    },
    {
     "data": {
      "image/png": "[encoded data removed]",
      "text/plain": [
       "<Figure size 432x288 with 1 Axes>"
      ]
     },
     "metadata": {
      "needs_background": "light"
     },
     "output_type": "display_data"
    },
    {
     "name": "stdout",
     "output_type": "stream",
     "text": [
      "Model prediction: 1\n"
     ]
    },
    {
     "data": {
      "image/png": "[encoded data removed]",
      "text/plain": [
       "<Figure size 432x288 with 1 Axes>"
      ]
     },
     "metadata": {
      "needs_background": "light"
     },
     "output_type": "display_data"
    },
    {
     "name": "stdout",
     "output_type": "stream",
     "text": [
      "Model prediction: 0\n"
     ]
    },
    {
     "data": {
      "image/png": "[encoded data removed]",
      "text/plain": [
       "<Figure size 432x288 with 1 Axes>"
      ]
     },
     "metadata": {
      "needs_background": "light"
     },
     "output_type": "display_data"
    },
    {
     "name": "stdout",
     "output_type": "stream",
     "text": [
      "Model prediction: 4\n"
     ]
    }
   ],
   "source": [
    "# Predict 5 images from validation set.\n",
    "n_images = 5\n",
    "test_images = x_test[:n_images]\n",
    "predictions = neural_net(test_images)\n",
    "\n",
    "# Display image and model prediction.\n",
    "for i in range(n_images):\n",
    "    plt.imshow(np.reshape(test_images[i], [28, 28]), cmap='gray')\n",
    "    plt.show()\n",
    "    print(\"Model prediction: %i\" % np.argmax(predictions.numpy()[i]))"
   ]
  },
  {
   "cell_type": "code",
   "execution_count": null,
   "metadata": {},
   "outputs": [],
   "source": []
  }
 ],
 "metadata": {
  "kernelspec": {
   "display_name": "Python 3",
   "language": "python",
   "name": "python3"
  },
  "language_info": {
   "codemirror_mode": {
    "name": "ipython",
    "version": 3
   },
   "file_extension": ".py",
   "mimetype": "text/x-python",
   "name": "python",
   "nbconvert_exporter": "python",
   "pygments_lexer": "ipython3",
   "version": "3.6.9"
  }
 },
 "nbformat": 4,
 "nbformat_minor": 4
}
